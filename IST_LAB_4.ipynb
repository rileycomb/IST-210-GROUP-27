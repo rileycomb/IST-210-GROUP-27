{
  "nbformat": 4,
  "nbformat_minor": 0,
  "metadata": {
    "colab": {
      "name": "IST LAB 4",
      "provenance": [],
      "collapsed_sections": []
    },
    "kernelspec": {
      "name": "python3",
      "display_name": "Python 3"
    }
  },
  "cells": [
    {
      "cell_type": "markdown",
      "metadata": {
        "id": "e-pojDh_D79_",
        "colab_type": "text"
      },
      "source": [
        "**Group 27 Assignment 4**"
      ]
    },
    {
      "cell_type": "code",
      "metadata": {
        "id": "TXNVxnHU2vM5",
        "colab_type": "code",
        "colab": {}
      },
      "source": [
        "import sqlite3 # Once imported in a single notebook, it is available to us throughout the rest of the notebook. \n",
        "# connect to database, if not there, create it.\n",
        "connectionToDatabase = sqlite3.connect('CataBus') \n",
        "cursor = connectionToDatabase.cursor()\n",
        "\n",
        "cursor = connectionToDatabase.cursor()\n",
        "cursor.execute('''drop table IF EXISTS Passenger''')\n",
        "connectionToDatabase.commit()\n",
        "\n",
        "cursor.execute('''create table Passenger (PSUID text PRIMARY KEY, firstname text, lastname text, Semester text)''')\n",
        "connectionToDatabase.commit()\n",
        "\n",
        "cursor = connectionToDatabase.cursor()\n",
        "cursor.execute('''drop table IF EXISTS Bus''')\n",
        "connectionToDatabase.commit()\n",
        "\n",
        "cursor.execute('''create table Bus (BusID text PRIMARY KEY, Model text, SeatsAvailable int, SeatsFilled int, Day text)''')\n",
        "connectionToDatabase.commit()\n",
        "\n",
        "cursor = connectionToDatabase.cursor()\n",
        "cursor.execute('''drop table IF EXISTS Condition''')\n",
        "connectionToDatabase.commit()\n",
        "\n",
        "cursor.execute('''create table Condition (Weather text PRIMARY KEY, Temperature int, date, Traffic text)''')\n",
        "connectionToDatabase.commit()\n",
        "\n",
        "cursor = connectionToDatabase.cursor()\n",
        "cursor.execute('''drop table IF EXISTS Route''')\n",
        "connectionToDatabase.commit()\n",
        "\n",
        "cursor.execute('''create table Route (RouteID text PRIMARY KEY, BusID text, Stops int, Minutes int, day text)''')\n",
        "connectionToDatabase.commit()\n",
        "\n",
        "cursor = connectionToDatabase.cursor()\n",
        "cursor.execute('''drop table IF EXISTS Traffic''')\n",
        "connectionToDatabase.commit()\n",
        "\n",
        "cursor.execute('''create table Traffic (LoopID text PRIMARY KEY, Time text, Date text, State text)''')\n",
        "connectionToDatabase.commit()\n"
      ],
      "execution_count": 0,
      "outputs": []
    },
    {
      "cell_type": "code",
      "metadata": {
        "id": "nTSErK2c21j5",
        "colab_type": "code",
        "outputId": "1ad45348-f751-4020-f34d-5207ed862039",
        "colab": {
          "base_uri": "https://localhost:8080/",
          "height": 102
        }
      },
      "source": [
        "cursor.execute('''insert into Passenger values ('939664067', 'Charlotte', 'Lin', 'Sophomore' );''')\n",
        "connectionToDatabase.commit()\n",
        "cursor.execute('''insert into Passenger values ('965306945', 'Amy', 'Anderson', 'Junior' );''')\n",
        "connectionToDatabase.commit()\n",
        "cursor.execute('''insert into Passenger values ('939450968', 'Jordan', 'Patton', 'Senior' );''')\n",
        "connectionToDatabase.commit()\n",
        "cursor.execute('''insert into Passenger values ('934509821', 'John', 'Friedman', 'Freshman' );''')\n",
        "connectionToDatabase.commit()\n",
        "cursor.execute('''insert into Passenger values ('938576334', 'Randy', 'Savage', 'Freshman' );''')\n",
        "connectionToDatabase.commit()\n",
        "\n",
        "cursor.execute('''select * from Passenger limit 5''')\n",
        "for row in cursor.fetchall():\n",
        "  print (row)"
      ],
      "execution_count": 0,
      "outputs": [
        {
          "output_type": "stream",
          "text": [
            "('939664067', 'Charlotte', 'Lin', 'Sophomore')\n",
            "('965306945', 'Amy', 'Anderson', 'Junior')\n",
            "('939450968', 'Jordan', 'Patton', 'Senior')\n",
            "('934509821', 'John', 'Friedman', 'Freshman')\n",
            "('938576334', 'Randy', 'Savage', 'Freshman')\n"
          ],
          "name": "stdout"
        }
      ]
    },
    {
      "cell_type": "code",
      "metadata": {
        "id": "JV6XAWMj22jk",
        "colab_type": "code",
        "outputId": "bbc0bb9a-ef03-4a59-81e5-8c1ebb2ac8a3",
        "colab": {
          "base_uri": "https://localhost:8080/",
          "height": 102
        }
      },
      "source": [
        "cursor.execute('''insert into Bus values ('XDE60', 'New Flyer', '50', '22', 'Monday' );''')\n",
        "connectionToDatabase.commit()\n",
        "cursor.execute('''insert into Bus values ('27TR', 'Solaris', '50', '25', 'Tuesday' );''')\n",
        "connectionToDatabase.commit()\n",
        "cursor.execute('''insert into Bus values ('104', 'Minsk', '60', '35', 'Wednesday' );''')\n",
        "connectionToDatabase.commit()\n",
        "cursor.execute('''insert into Bus values ('411', 'Ikarus', '60', '40', 'Monday' );''')\n",
        "connectionToDatabase.commit()\n",
        "cursor.execute('''insert into Bus values ('600', 'MCV', '50', '36', 'Monday' );''')\n",
        "connectionToDatabase.commit()\n",
        "\n",
        "cursor.execute('''select * from Bus limit 5''')\n",
        "for row in cursor.fetchall():\n",
        "  print (row)"
      ],
      "execution_count": 0,
      "outputs": [
        {
          "output_type": "stream",
          "text": [
            "('XDE60', 'New Flyer', 50, 22, 'Monday')\n",
            "('27TR', 'Solaris', 50, 25, 'Tuesday')\n",
            "('104', 'Minsk', 60, 35, 'Wednesday')\n",
            "('411', 'Ikarus', 60, 40, 'Monday')\n",
            "('600', 'MCV', 50, 36, 'Monday')\n"
          ],
          "name": "stdout"
        }
      ]
    },
    {
      "cell_type": "code",
      "metadata": {
        "id": "DForDybP25tD",
        "colab_type": "code",
        "outputId": "ee3fb282-53a5-43dd-88a2-317bf4a2f7ed",
        "colab": {
          "base_uri": "https://localhost:8080/",
          "height": 102
        }
      },
      "source": [
        "cursor.execute('''insert into Condition values ('Sunny', '67', '9/14/19', 'Light' );''')\n",
        "connectionToDatabase.commit()\n",
        "cursor.execute('''insert into Condition values ('Rainy', '44', '10/03/19', 'Moderate' );''')\n",
        "connectionToDatabase.commit()\n",
        "cursor.execute('''insert into Condition values ('Cloudy', '11', '11/22/19', 'Heavy' );''')\n",
        "connectionToDatabase.commit()\n",
        "cursor.execute('''insert into Condition values ('Mist', '23', '11/29/19', 'Light' );''')\n",
        "connectionToDatabase.commit()\n",
        "cursor.execute('''insert into Condition values ('Snow', '5', '12/15/19', 'Heavy' );''')\n",
        "connectionToDatabase.commit()\n",
        "\n",
        "cursor.execute('''select * from Condition limit 5''')\n",
        "for row in cursor.fetchall():\n",
        "  print (row)"
      ],
      "execution_count": 0,
      "outputs": [
        {
          "output_type": "stream",
          "text": [
            "('Sunny', 67, '9/14/19', 'Light')\n",
            "('Rainy', 44, '10/03/19', 'Moderate')\n",
            "('Cloudy', 11, '11/22/19', 'Heavy')\n",
            "('Mist', 23, '11/29/19', 'Light')\n",
            "('Snow', 5, '12/15/19', 'Heavy')\n"
          ],
          "name": "stdout"
        }
      ]
    },
    {
      "cell_type": "code",
      "metadata": {
        "id": "JEXZC7uN2780",
        "colab_type": "code",
        "outputId": "e9ace6fa-b975-4e15-f85d-008d2a864778",
        "colab": {
          "base_uri": "https://localhost:8080/",
          "height": 136
        }
      },
      "source": [
        "cursor.execute('''insert into Route values ('22RR', 'XDE60', '18', '11', 'Monday' );''')\n",
        "connectionToDatabase.commit()\n",
        "cursor.execute('''insert into Route values ('44RR', '27TIR', '15', '12', 'Tuesday' );''')\n",
        "connectionToDatabase.commit()\n",
        "cursor.execute('''insert into Route values ('88RR', '104TY', '18', '11', 'Wednesday' );''')\n",
        "connectionToDatabase.commit()\n",
        "cursor.execute('''insert into Route values ('66RT', '41RR1', '15', '13', 'Thursday' );''')\n",
        "connectionToDatabase.commit()\n",
        "cursor.execute('''insert into Route values ('77YT', '6EE00', '18', '12', 'Friday' );''')\n",
        "connectionToDatabase.commit()\n",
        "cursor.execute('''insert into Route values ('99YT', '77RRT', '9', '30', 'Saturday' );''')\n",
        "connectionToDatabase.commit()\n",
        "cursor.execute('''insert into Route values ('11UT', 'ETRE50', '9', '23', 'Sunday' );''')\n",
        "connectionToDatabase.commit()\n",
        "\n",
        "cursor.execute('''select * from Route limit 7''')\n",
        "for row in cursor.fetchall():\n",
        "  print (row)"
      ],
      "execution_count": 0,
      "outputs": [
        {
          "output_type": "stream",
          "text": [
            "('22RR', 'XDE60', 18, 11, 'Monday')\n",
            "('44RR', '27TIR', 15, 12, 'Tuesday')\n",
            "('88RR', '104TY', 18, 11, 'Wednesday')\n",
            "('66RT', '41RR1', 15, 13, 'Thursday')\n",
            "('77YT', '6EE00', 18, 12, 'Friday')\n",
            "('99YT', '77RRT', 9, 30, 'Saturday')\n",
            "('11UT', 'ETRE50', 9, 23, 'Sunday')\n"
          ],
          "name": "stdout"
        }
      ]
    },
    {
      "cell_type": "code",
      "metadata": {
        "id": "_6xhW47G29-a",
        "colab_type": "code",
        "outputId": "c088ac74-1a1f-4880-c5df-0ef6a159b358",
        "colab": {
          "base_uri": "https://localhost:8080/",
          "height": 136
        }
      },
      "source": [
        "cursor = connectionToDatabase.cursor()\n",
        "cursor.execute('''drop table IF EXISTS Traffic''')\n",
        "connectionToDatabase.commit()\n",
        "\n",
        "cursor.execute('''create table Traffic (LoopID text PRIMARY KEY, Time text, Date text, State text)''')\n",
        "connectionToDatabase.commit()\n",
        "\n",
        "cursor.execute('''insert into Traffic values ('Blue1', '7:00AM', '5-11-19', 'Light');''')\n",
        "connectionToDatabase.commit()\n",
        "cursor.execute('''insert into Traffic values ('Blue2', '9:00AM', '9-09-19', 'Moderate');''')\n",
        "connectionToDatabase.commit()\n",
        "cursor.execute('''insert into Traffic values ('Blue3', '11:00AM', '10-15-19', 'Light');''')\n",
        "connectionToDatabase.commit()\n",
        "cursor.execute('''insert into Traffic values ('Blue4', '12:00PM', '3-10-19', 'Heavy');''')\n",
        "connectionToDatabase.commit()\n",
        "cursor.execute('''insert into Traffic values ('Blue5', '3:00PM', '8-18-19', 'Heavy');''')\n",
        "connectionToDatabase.commit()\n",
        "cursor.execute('''insert into Traffic values ('Blue6', '5:00PM', '5-14-19', 'Light');''')\n",
        "connectionToDatabase.commit()\n",
        "cursor.execute('''insert into Traffic values ('Blue7', '8:00PM', '7-16-19', 'Moderate');''')\n",
        "connectionToDatabase.commit()\n",
        "\n",
        "cursor.execute('''select * from Traffic limit 7''')\n",
        "for row in cursor.fetchall():\n",
        "  print (row)"
      ],
      "execution_count": 0,
      "outputs": [
        {
          "output_type": "stream",
          "text": [
            "('Blue1', '7:00AM', '5-11-19', 'Light')\n",
            "('Blue2', '9:00AM', '9-09-19', 'Moderate')\n",
            "('Blue3', '11:00AM', '10-15-19', 'Light')\n",
            "('Blue4', '12:00PM', '3-10-19', 'Heavy')\n",
            "('Blue5', '3:00PM', '8-18-19', 'Heavy')\n",
            "('Blue6', '5:00PM', '5-14-19', 'Light')\n",
            "('Blue7', '8:00PM', '7-16-19', 'Moderate')\n"
          ],
          "name": "stdout"
        }
      ]
    },
    {
      "cell_type": "markdown",
      "metadata": {
        "id": "VQDUOcaHEPaN",
        "colab_type": "text"
      },
      "source": [
        "**1. What are the days where traffic is heavy?**"
      ]
    },
    {
      "cell_type": "code",
      "metadata": {
        "id": "EIirjhJ23BnK",
        "colab_type": "code",
        "outputId": "d841831c-a6a1-4348-cd3a-d05371ee3262",
        "colab": {
          "base_uri": "https://localhost:8080/",
          "height": 51
        }
      },
      "source": [
        "cursor.execute('''select * from Traffic where state = \"Heavy\" limit 5''')\n",
        "for row in cursor.fetchall():\n",
        "  print (row)"
      ],
      "execution_count": 0,
      "outputs": [
        {
          "output_type": "stream",
          "text": [
            "('Blue4', '12:00PM', '3-10-19', 'Heavy')\n",
            "('Blue5', '3:00PM', '8-18-19', 'Heavy')\n"
          ],
          "name": "stdout"
        }
      ]
    },
    {
      "cell_type": "markdown",
      "metadata": {
        "id": "E_Wm4rJgETud",
        "colab_type": "text"
      },
      "source": [
        "- This question is important because a student can wake up in the morning and see what time of the day that traffic is heavy. The table finds the word \"heavy\" and will fetch all of the dates and times that the blue loop is heaviest. This will help travel time to a class as a student can efficiently plan their day. The results of the table came out just as expected with the blue loop, time of the day, date, and the search result, \"heavy\". "
      ]
    },
    {
      "cell_type": "markdown",
      "metadata": {
        "id": "FoiGjSS7FNqo",
        "colab_type": "text"
      },
      "source": [
        "**2. What are the top 5 days where the loop was the fastest?**"
      ]
    },
    {
      "cell_type": "code",
      "metadata": {
        "id": "2FnrYg313Dkn",
        "colab_type": "code",
        "outputId": "7541d35f-efee-446d-ba69-28285180ec44",
        "colab": {
          "base_uri": "https://localhost:8080/",
          "height": 102
        }
      },
      "source": [
        "cursor.execute('''select * from Route ORDER BY Minutes DESC limit 5''')\n",
        "for row in cursor.fetchall():\n",
        "  print (row)"
      ],
      "execution_count": 0,
      "outputs": [
        {
          "output_type": "stream",
          "text": [
            "('99YT', '77RRT', 9, 30, 'Saturday')\n",
            "('11UT', 'ETRE50', 9, 23, 'Sunday')\n",
            "('66RT', '41RR1', 15, 13, 'Thursday')\n",
            "('44RR', '27TIR', 15, 12, 'Tuesday')\n",
            "('77YT', '6EE00', 18, 12, 'Friday')\n"
          ],
          "name": "stdout"
        }
      ]
    },
    {
      "cell_type": "markdown",
      "metadata": {
        "id": "PR533jVMFStP",
        "colab_type": "text"
      },
      "source": [
        "- This question is important because a student can look at times in which they cam take a quicker bus. It comes with the bus route, passengers and time. If a student is planning to travel on a bus and fears missing it, the table can find the faster routes, so they can look out for it. The results for the question came out exactly as expected as there are the elements of time, routes and the days of the week that are associated. "
      ]
    },
    {
      "cell_type": "markdown",
      "metadata": {
        "id": "nDpNaxzSGNcy",
        "colab_type": "text"
      },
      "source": [
        "**3. What are the average seats filled on Mondays?**"
      ]
    },
    {
      "cell_type": "code",
      "metadata": {
        "id": "sQzCD4Bn3FZ-",
        "colab_type": "code",
        "outputId": "67713385-69c7-4241-8f10-616eb1bc66ff",
        "colab": {
          "base_uri": "https://localhost:8080/",
          "height": 34
        }
      },
      "source": [
        "cursor.execute('''select SUM(SeatsFilled) from Bus WHERE Day = \"Monday\" ''')\n",
        "for row in cursor.fetchall():\n",
        "  print (row)"
      ],
      "execution_count": 0,
      "outputs": [
        {
          "output_type": "stream",
          "text": [
            "(98,)\n"
          ],
          "name": "stdout"
        }
      ]
    },
    {
      "cell_type": "markdown",
      "metadata": {
        "id": "DfYf2yFuGShK",
        "colab_type": "text"
      },
      "source": [
        "- This question is very important as it will give an estimate for how crowded a bus is. If a student was deciding whether to take a bus or to walk, they could ask this question and see if there are many seats taken or few. If there are few, it would be very easy for the student to get a seat on the bus. This question was answered exactly as expecred as it took the average number of seats filled for Mondays. This could be applied to any day of the week for students to use daily. "
      ]
    },
    {
      "cell_type": "code",
      "metadata": {
        "id": "rzlTrlAQBc4e",
        "colab_type": "code",
        "outputId": "7f7ca354-5835-44ca-b0c7-b846236f33b8",
        "colab": {
          "resources": {
            "http://localhost:8080/nbextensions/google.colab/files.js": {
              "data": "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",
              "ok": true,
              "headers": [
                [
                  "content-type",
                  "application/javascript"
                ]
              ],
              "status": 200,
              "status_text": ""
            }
          },
          "base_uri": "https://localhost:8080/",
          "height": 371
        }
      },
      "source": [
        "from google.colab import files\n",
        "from IPython.display import Image\n",
        "\n",
        "uploaded = files.upload()\n",
        "\n",
        "Image('Bus Tables.png', width =1200)\n"
      ],
      "execution_count": 2,
      "outputs": [
        {
          "output_type": "display_data",
          "data": {
            "text/html": [
              "\n",
              "     <input type=\"file\" id=\"files-4e6c15e0-7040-4c28-a68d-4aaa438e764e\" name=\"files[]\" multiple disabled />\n",
              "     <output id=\"result-4e6c15e0-7040-4c28-a68d-4aaa438e764e\">\n",
              "      Upload widget is only available when the cell has been executed in the\n",
              "      current browser session. Please rerun this cell to enable.\n",
              "      </output>\n",
              "      <script src=\"/nbextensions/google.colab/files.js\"></script> "
            ],
            "text/plain": [
              "<IPython.core.display.HTML object>"
            ]
          },
          "metadata": {
            "tags": []
          }
        },
        {
          "output_type": "error",
          "ename": "TypeError",
          "evalue": "ignored",
          "traceback": [
            "\u001b[0;31m---------------------------------------------------------------------------\u001b[0m",
            "\u001b[0;31mTypeError\u001b[0m                                 Traceback (most recent call last)",
            "\u001b[0;32m<ipython-input-2-0b30fd009860>\u001b[0m in \u001b[0;36m<module>\u001b[0;34m()\u001b[0m\n\u001b[1;32m      2\u001b[0m \u001b[0;32mfrom\u001b[0m \u001b[0mIPython\u001b[0m\u001b[0;34m.\u001b[0m\u001b[0mdisplay\u001b[0m \u001b[0;32mimport\u001b[0m \u001b[0mImage\u001b[0m\u001b[0;34m\u001b[0m\u001b[0;34m\u001b[0m\u001b[0m\n\u001b[1;32m      3\u001b[0m \u001b[0;34m\u001b[0m\u001b[0m\n\u001b[0;32m----> 4\u001b[0;31m \u001b[0muploaded\u001b[0m \u001b[0;34m=\u001b[0m \u001b[0mfiles\u001b[0m\u001b[0;34m.\u001b[0m\u001b[0mupload\u001b[0m\u001b[0;34m(\u001b[0m\u001b[0;34m)\u001b[0m\u001b[0;34m\u001b[0m\u001b[0;34m\u001b[0m\u001b[0m\n\u001b[0m\u001b[1;32m      5\u001b[0m \u001b[0;34m\u001b[0m\u001b[0m\n\u001b[1;32m      6\u001b[0m \u001b[0mImage\u001b[0m\u001b[0;34m(\u001b[0m\u001b[0;34m'Bus Tables.png'\u001b[0m\u001b[0;34m,\u001b[0m \u001b[0mwidth\u001b[0m \u001b[0;34m=\u001b[0m\u001b[0;36m1200\u001b[0m\u001b[0;34m)\u001b[0m\u001b[0;34m\u001b[0m\u001b[0;34m\u001b[0m\u001b[0m\n",
            "\u001b[0;32m/usr/local/lib/python3.6/dist-packages/google/colab/files.py\u001b[0m in \u001b[0;36mupload\u001b[0;34m()\u001b[0m\n\u001b[1;32m     67\u001b[0m   \u001b[0mlocal_filenames\u001b[0m \u001b[0;34m=\u001b[0m \u001b[0mdict\u001b[0m\u001b[0;34m(\u001b[0m\u001b[0;34m)\u001b[0m\u001b[0;34m\u001b[0m\u001b[0;34m\u001b[0m\u001b[0m\n\u001b[1;32m     68\u001b[0m \u001b[0;34m\u001b[0m\u001b[0m\n\u001b[0;32m---> 69\u001b[0;31m   \u001b[0;32mwhile\u001b[0m \u001b[0mresult\u001b[0m\u001b[0;34m[\u001b[0m\u001b[0;34m'action'\u001b[0m\u001b[0;34m]\u001b[0m \u001b[0;34m!=\u001b[0m \u001b[0;34m'complete'\u001b[0m\u001b[0;34m:\u001b[0m\u001b[0;34m\u001b[0m\u001b[0;34m\u001b[0m\u001b[0m\n\u001b[0m\u001b[1;32m     70\u001b[0m     result = _output.eval_js(\n\u001b[1;32m     71\u001b[0m         'google.colab._files._uploadFilesContinue(\"{output_id}\")'.format(\n",
            "\u001b[0;31mTypeError\u001b[0m: 'NoneType' object is not subscriptable"
          ]
        }
      ]
    }
  ]
}