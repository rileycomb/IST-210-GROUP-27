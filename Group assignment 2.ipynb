{
 "cells": [
  {
   "cell_type": "markdown",
   "metadata": {},
   "source": [
    "# Group Assignment 2"
   ]
  },
  {
   "cell_type": "markdown",
   "metadata": {},
   "source": [
    "### Description of project\n",
    "\n",
    "This ER diagram has been created to show the Cata Bus routine during different conditions and for different routes on PSU Campus. The Bus type table contains attributes for who rides, and drives the bus along which route and how many seats the bus has. The bus has a 1:1 relationship with routes since one bus can only have one route, the inverse is a 1:3 since a single route can have up to 3 busses. Passengers are a 1:1 since one person can only ride one bus at a time, the other way round is (0:M) since a bus can have 0 passengers excluding the driver, or many people. There are many conditions that will affect many busses at the same time since the weather/season/traffic is most likely going to affect more than one route at a time. alternatively there could be no traffic hindering a route therefore the relationship would be (0,M) zero cars in traffic for many busses. Different days and weekends will also affect this as football weekends at PSU are known to draw a lot of people and with people come cars and more passengers for the CATABUS. Also the weather conditions will also affect traffic as less cars will be driving in snow/icy weather which means the traffic and conditions will have a (M,M) relationship since many cars will be affected by many conditions but inversely is (0,M) since it is possible that there will be no traffic in terrible weather conditions. It is also possible that having both traffic under route and conditions is redundant but both are very connected so I’ve left them as is."
   ]
  },
  {
   "cell_type": "markdown",
   "metadata": {},
   "source": [
    "### Updated ER Diagram\n",
    "\n",
    "![Tables](https://i.imgur.com/J08KRwU.png)"
   ]
  }
 ],
 "metadata": {
  "kernelspec": {
   "display_name": "Python 3",
   "language": "python",
   "name": "python3"
  },
  "language_info": {
   "codemirror_mode": {
    "name": "ipython",
    "version": 3
   },
   "file_extension": ".py",
   "mimetype": "text/x-python",
   "name": "python",
   "nbconvert_exporter": "python",
   "pygments_lexer": "ipython3",
   "version": "3.7.3"
  }
 },
 "nbformat": 4,
 "nbformat_minor": 2
}
